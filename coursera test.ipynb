{
    "cells": [
        {
            "cell_type": "code",
            "execution_count": 1,
            "metadata": {},
            "outputs": [],
            "source": "# This is a test of uploading data to Watson Studio for IBM Data Science Certification Coursera"
        },
        {
            "cell_type": "code",
            "execution_count": 2,
            "metadata": {},
            "outputs": [
                {
                    "data": {
                        "text/html": "<div>\n<style scoped>\n    .dataframe tbody tr th:only-of-type {\n        vertical-align: middle;\n    }\n\n    .dataframe tbody tr th {\n        vertical-align: top;\n    }\n\n    .dataframe thead th {\n        text-align: right;\n    }\n</style>\n<table border=\"1\" class=\"dataframe\">\n  <thead>\n    <tr style=\"text-align: right;\">\n      <th></th>\n      <th>id</th>\n      <th>expected_recovery_amount</th>\n      <th>actual_recovery_amount</th>\n      <th>recovery_strategy</th>\n      <th>age</th>\n      <th>sex</th>\n    </tr>\n  </thead>\n  <tbody>\n    <tr>\n      <th>0</th>\n      <td>2030</td>\n      <td>194</td>\n      <td>263.540</td>\n      <td>Level 0 Recovery</td>\n      <td>19</td>\n      <td>Male</td>\n    </tr>\n    <tr>\n      <th>1</th>\n      <td>1150</td>\n      <td>486</td>\n      <td>416.090</td>\n      <td>Level 0 Recovery</td>\n      <td>25</td>\n      <td>Female</td>\n    </tr>\n    <tr>\n      <th>2</th>\n      <td>380</td>\n      <td>527</td>\n      <td>429.350</td>\n      <td>Level 0 Recovery</td>\n      <td>27</td>\n      <td>Male</td>\n    </tr>\n    <tr>\n      <th>3</th>\n      <td>1838</td>\n      <td>536</td>\n      <td>296.990</td>\n      <td>Level 0 Recovery</td>\n      <td>25</td>\n      <td>Male</td>\n    </tr>\n    <tr>\n      <th>4</th>\n      <td>1995</td>\n      <td>541</td>\n      <td>346.385</td>\n      <td>Level 0 Recovery</td>\n      <td>34</td>\n      <td>Male</td>\n    </tr>\n  </tbody>\n</table>\n</div>",
                        "text/plain": "     id  expected_recovery_amount  actual_recovery_amount recovery_strategy  \\\n0  2030                       194                 263.540  Level 0 Recovery   \n1  1150                       486                 416.090  Level 0 Recovery   \n2   380                       527                 429.350  Level 0 Recovery   \n3  1838                       536                 296.990  Level 0 Recovery   \n4  1995                       541                 346.385  Level 0 Recovery   \n\n   age     sex  \n0   19    Male  \n1   25  Female  \n2   27    Male  \n3   25    Male  \n4   34    Male  "
                    },
                    "execution_count": 2,
                    "metadata": {},
                    "output_type": "execute_result"
                }
            ],
            "source": "# The code was removed by Watson Studio for sharing."
        },
        {
            "cell_type": "code",
            "execution_count": null,
            "metadata": {},
            "outputs": [],
            "source": ""
        }
    ],
    "metadata": {
        "kernelspec": {
            "display_name": "Python 3.9",
            "language": "python",
            "name": "python3"
        },
        "language_info": {
            "codemirror_mode": {
                "name": "ipython",
                "version": 3
            },
            "file_extension": ".py",
            "mimetype": "text/x-python",
            "name": "python",
            "nbconvert_exporter": "python",
            "pygments_lexer": "ipython3",
            "version": "3.9.13"
        }
    },
    "nbformat": 4,
    "nbformat_minor": 1
}